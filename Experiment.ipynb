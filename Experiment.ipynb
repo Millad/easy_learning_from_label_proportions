{
 "cells": [
  {
   "cell_type": "markdown",
   "metadata": {
    "id": "9GAVEMnmoxmv"
   },
   "source": [
    "# Hello!\n",
    "\n",
    "The training time is under 5 min.\n",
    "The training data size is set to minimum. I want to experiment easily without waiting for it to train for hours. You will get the main idea behind the paper with just enough data for a good enough working demo.\n",
    "\n",
    "*Millad*"
   ]
  },
  {
   "cell_type": "markdown",
   "metadata": {
    "id": "D9fSRyWtouNs"
   },
   "source": [
    "# Load data from github\n"
   ]
  },
  {
   "cell_type": "code",
   "execution_count": 9,
   "metadata": {
    "id": "gyVm5aBDohOm"
   },
   "outputs": [
    {
     "name": "stdout",
     "output_type": "stream",
     "text": [
      "Loaded: 1215 reviews\n"
     ]
    }
   ],
   "source": [
    "import requests\n",
    "all_reviews = []\n",
    "\n",
    "url = 'https://raw.githubusercontent.com/Millad/easy_learning_from_label_proportions/refs/heads/main/data.json'\n",
    "response = requests.get(url)\n",
    "\n",
    "if response.status_code == 200:\n",
    "    all_reviews = response.json()\n",
    "    print(\"Loaded: \" + str(len(all_reviews)) + \" reviews\")\n",
    "else:\n",
    "    print(\"Failed to retrieve the file:\", response.status_code)"
   ]
  },
  {
   "cell_type": "markdown",
   "metadata": {
    "id": "uv9Z6OuMomhO"
   },
   "source": [
    "# Training\n"
   ]
  },
  {
   "cell_type": "code",
   "execution_count": 10,
   "metadata": {
    "colab": {
     "base_uri": "https://localhost:8080/",
     "height": 903
    },
    "executionInfo": {
     "elapsed": 405005,
     "status": "ok",
     "timestamp": 1739390983393,
     "user": {
      "displayName": "Millad Dagdoni",
      "userId": "08179272753637900920"
     },
     "user_tz": -60
    },
    "id": "KmTZE7jDd-aN",
    "outputId": "e9f4dccd-2bf1-40cf-a1d1-4e440bc754f4"
   },
   "outputs": [
    {
     "name": "stdout",
     "output_type": "stream",
     "text": [
      "TOTAL REVIEWS: 1215\n",
      "total BAGS: 60\n",
      "bag 0  ['delightful original film surprises clever twists', 'vibrant uplifting film inspires creative vision', 'truly inspiring cinematic experience layers meaning emotion', 'lifeless script flat execution make film hard recommend', 'dynamic engrossing film weaves intricate storytelling emotional depth', 'confusing project never quite manages hold together', 'refreshing tale charms original premise graceful execution', 'poorly conceived project fails engage due jumbled storyline', 'brilliant example storytelling captivates start finish', 'disappointing affair fails maintain momentum leaves audience disengaged', 'movie triumph direction performance', 'extraordinary piece cinema captivates beginning end', 'stirring narrative visually stunning emotionally resonant', 'utterly boring movie wouldnt recommend', 'moving inventive cinematic journey inspires every scene', 'rich layered film truly captivates audience', 'inspiring tale fills heart warmth joy', 'emotionally stirring film resonates authenticity', 'captivating journey realm wonder vibrant storytelling', 'muddled effort fails deliver compelling moments']\n",
      "Train bags: 36\n",
      "Test bags: 24\n",
      "Estimated population positive rate p = 0.54\n"
     ]
    },
    {
     "name": "stderr",
     "output_type": "stream",
     "text": [
      "Some weights of DistilBertForSequenceClassification were not initialized from the model checkpoint at distilbert-base-uncased and are newly initialized: ['classifier.bias', 'classifier.weight', 'pre_classifier.bias', 'pre_classifier.weight']\n",
      "You should probably TRAIN this model on a down-stream task to be able to use it for predictions and inference.\n"
     ]
    },
    {
     "name": "stdout",
     "output_type": "stream",
     "text": [
      "****\n",
      "**** Going to start training with 5 epochs!\n",
      "inside EPOCH loop!\n",
      "Epoch 1/5 - Average Bag Loss: 0.3867\n",
      "inside EPOCH loop!\n",
      "Epoch 2/5 - Average Bag Loss: 0.2046\n",
      "inside EPOCH loop!\n",
      "Epoch 3/5 - Average Bag Loss: 0.0899\n",
      "inside EPOCH loop!\n",
      "Epoch 4/5 - Average Bag Loss: -0.0412\n",
      "inside EPOCH loop!\n",
      "Epoch 5/5 - Average Bag Loss: -0.3440\n"
     ]
    },
    {
     "data": {
      "text/plain": [
       "[Text(0.5, 1.0, 'Training Loss Over Time'),\n",
       " Text(0.5, 0, 'Epochs'),\n",
       " Text(0, 0.5, 'Loss')]"
      ]
     },
     "execution_count": 10,
     "metadata": {},
     "output_type": "execute_result"
    },
    {
     "data": {
      "image/png": "[encoded data removed]",
      "text/plain": [
       "<Figure size 640x480 with 1 Axes>"
      ]
     },
     "metadata": {},
     "output_type": "display_data"
    }
   ],
   "source": [
    "import torch\n",
    "import torch.nn.functional as F\n",
    "from torch.optim import AdamW\n",
    "from transformers import AutoTokenizer, AutoModelForSequenceClassification\n",
    "import random\n",
    "from sklearn.model_selection import train_test_split\n",
    "from sklearn.preprocessing import StandardScaler\n",
    "from sklearn.metrics import mean_squared_error, mean_absolute_error\n",
    "from sklearn.metrics import accuracy_score, f1_score\n",
    "import torch\n",
    "import seaborn as sns\n",
    "import pandas as pd\n",
    "import numpy as np\n",
    "import re\n",
    "\n",
    "def preprocess_text(text):\n",
    "    text = text.lower()\n",
    "    text = re.sub(r'[^a-zA-Z0-9\\s]', '', text)\n",
    "    words = text.split()\n",
    "    stop_words = set([\n",
    "        'i', 'me', 'my', 'myself', 'we', 'our', 'ours', 'ourselves', 'you', 'your', 'yours', 'yourself', 'yourselves',\n",
    "        'he', 'him', 'his', 'himself', 'she', 'her', 'hers', 'herself', 'it', 'its', 'itself', 'they', 'them',\n",
    "        'their', 'theirs', 'themselves', 'what', 'which', 'who', 'whom', 'this', 'that', 'these', 'those',\n",
    "        'am', 'is', 'are', 'was', 'were', 'be', 'been', 'being', 'have', 'has', 'had', 'having', 'do', 'does',\n",
    "        'did', 'doing', 'a', 'an', 'the', 'and', 'but', 'if', 'or', 'because', 'as', 'until', 'while', 'of',\n",
    "        'at', 'by', 'for', 'with', 'about', 'against', 'between', 'into', 'through', 'during', 'before',\n",
    "        'after', 'above', 'below', 'to', 'from', 'up', 'down', 'in', 'out', 'on', 'off', 'over', 'under',\n",
    "        'again', 'further', 'then', 'once', 'here', 'there', 'when', 'where', 'why', 'how', 'all', 'any',\n",
    "        'both', 'each', 'few', 'more', 'most', 'other', 'some', 'such', 'no', 'nor', 'not', 'only', 'own',\n",
    "        'same', 'so', 'than', 'too', 'very', 's', 't', 'can', 'will', 'just', 'don', 'should', 'now'\n",
    "    ])\n",
    "\n",
    "    filtered_words = [word for word in words if word not in stop_words]\n",
    "    processed_text = ' '.join(filtered_words)\n",
    "\n",
    "    return processed_text\n",
    "\n",
    "############# prepare bags for all reviews #############\n",
    "random.shuffle(all_reviews)\n",
    "print(\"TOTAL REVIEWS:\", len(all_reviews))\n",
    "bag_size = 20\n",
    "bags = []\n",
    "\n",
    "# Group reviews into bags of exactly bag_size.\n",
    "for i in range(0, len(all_reviews), bag_size):\n",
    "    bag_group = all_reviews[i:i+bag_size]\n",
    "    if len(bag_group) == bag_size:  # only use full bags\n",
    "        bag = {\n",
    "            \"reviews\": [preprocess_text(entry[\"text\"]) for entry in bag_group],\n",
    "            \"labels\": [entry[\"label\"] for entry in bag_group],\n",
    "            \"bag_proportion\" : sum([entry[\"label\"] for entry in bag_group]) / len([entry[\"label\"] for entry in bag_group])\n",
    "        }\n",
    "        bags.append(bag)\n",
    "\n",
    "print(\"total BAGS: \" + str(len(bags)))\n",
    "print(\"bag 0 \",bags[0][\"reviews\"])\n",
    "\n",
    "########## train and test split ##########\n",
    "np.random.shuffle(bags)\n",
    "split_idx = int(0.6 * len(bags))  # 60% split index due to limited training data so we don't easily overfit on 80:20 split\n",
    "train_bags, test_bags = bags[:split_idx], bags[split_idx:]\n",
    "\n",
    "print(\"Train bags:\", len(train_bags))\n",
    "print(\"Test bags:\", len(test_bags))\n",
    "\n",
    "total_reviews = sum(len(bag[\"reviews\"]) for bag in train_bags)\n",
    "total_positive = sum(bag[\"bag_proportion\"] * len(bag[\"reviews\"]) for bag in train_bags)\n",
    "p = total_positive / total_reviews  # population positive rate\n",
    "print(f\"Estimated population positive rate p = {p:.2f}\")  # aim for ~0.50\n",
    "\n",
    "###########  Tokenizer and model ##########\n",
    "model_name = \"distilbert-base-uncased\"\n",
    "tokenizer = AutoTokenizer.from_pretrained(model_name)\n",
    "model = AutoModelForSequenceClassification.from_pretrained(model_name, num_labels=1)\n",
    "model.train()\n",
    "\n",
    "optimizer = AdamW(model.parameters(), lr=2e-5)\n",
    "\n",
    "###########  EASYLLP loss function ##########\n",
    "def easyllp_loss(y_pred, alpha, K, p):\n",
    "    y_pred = y_pred.reshape(-1, K)  # new shape: (num_bags, K); here num_bags==1 per call.\n",
    "    pos_losses = torch.mean((y_pred - 1)**2, dim=1)\n",
    "    neg_losses = torch.mean((y_pred)**2, dim=1)\n",
    "    loss = (K * (alpha - p) + p) * pos_losses + (K * (p - alpha) + (1 - p)) * neg_losses\n",
    "    return loss.mean()\n",
    "\n",
    "###########  Training ##########\n",
    "losses = []\n",
    "num_epochs = 5\n",
    "print(\"****\")\n",
    "print(f\"**** Going to start training with {num_epochs} epochs!\")\n",
    "for epoch in range(num_epochs):\n",
    "    print(\"inside EPOCH loop!\")\n",
    "    total_loss = 0.0\n",
    "    num_bags = 0\n",
    "\n",
    "    for bag in train_bags:\n",
    "        reviews = bag[\"reviews\"]\n",
    "        alpha = bag[\"bag_proportion\"]  # current bag proportion\n",
    "        k = len(reviews)  # K = bag size\n",
    "\n",
    "        encoding = tokenizer(reviews, padding=True, truncation=True, return_tensors=\"pt\")\n",
    "        input_ids = encoding[\"input_ids\"]\n",
    "        attention_mask = encoding.get(\"attention_mask\", None)\n",
    "\n",
    "        y_pred = model(input_ids, attention_mask=attention_mask)\n",
    "        logits = y_pred.logits.squeeze(-1)\n",
    "\n",
    "        loss = easyllp_loss(logits, alpha, k, p) # p = population positive rate\n",
    "\n",
    "        ### Backpropagation\n",
    "        optimizer.zero_grad()\n",
    "        loss.backward()\n",
    "        optimizer.step()\n",
    "\n",
    "        total_loss += loss.item()\n",
    "        num_bags += 1\n",
    "\n",
    "    avg_loss = total_loss / num_bags\n",
    "    losses.append(total_loss)\n",
    "    print(f\"Epoch {epoch+1}/{num_epochs} - Average Bag Loss: {avg_loss:.4f}\")\n",
    "\n",
    "###### PLOT loss ######\n",
    "loss_df = pd.DataFrame({\"Epoch\": range(len(losses)), \"Loss\": losses})\n",
    "sns.lineplot(data=loss_df, x=\"Epoch\", y=\"Loss\").set(\n",
    "    title=\"Training Loss Over Time\", xlabel=\"Epochs\", ylabel=\"Loss\"\n",
    ")"
   ]
  },
  {
   "cell_type": "markdown",
   "metadata": {
    "id": "HZErwouDprQQ"
   },
   "source": [
    "# Eval model"
   ]
  },
  {
   "cell_type": "code",
   "execution_count": 11,
   "metadata": {
    "colab": {
     "base_uri": "https://localhost:8080/"
    },
    "executionInfo": {
     "elapsed": 12302,
     "status": "ok",
     "timestamp": 1739390995692,
     "user": {
      "displayName": "Millad Dagdoni",
      "userId": "08179272753637900920"
     },
     "user_tz": -60
    },
    "id": "3bZE2sekne8p",
    "outputId": "b4333cf8-2528-43dc-957a-e8210ec8f6ea"
   },
   "outputs": [
    {
     "name": "stdout",
     "output_type": "stream",
     "text": [
      "Total test bags:  24\n",
      "Real Y Values for each bag   :  [1, 1, 1, 1, 1, 1, 1, 1, 1, 1, 0, 0, 0, 1, 1, 0, 1, 0, 0, 1, 0, 1, 0, 1]\n",
      "Predicted values for each bag:  [1, 1, 1, 0, 0, 1, 1, 1, 1, 1, 0, 0, 0, 1, 1, 0, 1, 0, 1, 1, 0, 0, 0, 1]\n",
      "Bag-Level Accuracy: 83.33%\n",
      "Bag-Level F1-score: 0.8370\n"
     ]
    }
   ],
   "source": [
    "model.eval()\n",
    "actual_test_bags_predictions = []\n",
    "with torch.no_grad():\n",
    "    for bag in test_bags:\n",
    "        reviews = bag[\"reviews\"]\n",
    "        alpha = bag[\"bag_proportion\"]\n",
    "        k = len(reviews)  # K = Bag size\n",
    "\n",
    "        encoding = tokenizer(reviews, padding=True, truncation=True, return_tensors=\"pt\")\n",
    "        input_ids = encoding[\"input_ids\"]\n",
    "        attention_mask = encoding.get(\"attention_mask\", None)\n",
    "\n",
    "        y_pred = model(input_ids, attention_mask=attention_mask)\n",
    "        logits = y_pred.logits.squeeze(-1)  # shape: (k,)\n",
    "        preds = (logits >= 0.5).long()\n",
    "        actual_test_bags_predictions.append(preds.tolist())\n",
    "\n",
    "y_true = list(map(lambda bag: 1 if bag[\"bag_proportion\"] >= 0.5 else 0, test_bags))\n",
    "y_pred = [1 if np.mean(sub_array) >= 0.5 else 0 for sub_array in actual_test_bags_predictions]\n",
    "\n",
    "print(\"Total test bags: \", len(test_bags))\n",
    "print(\"Real Y Values for each bag   : \",y_true)\n",
    "print(\"Predicted values for each bag: \",y_pred)\n",
    "\n",
    "accuracy = accuracy_score(y_true, y_pred)\n",
    "f1 = f1_score(y_true, y_pred, average=\"weighted\")\n",
    "\n",
    "print(f'Bag-Level Accuracy: {accuracy * 100:.2f}%')\n",
    "print(f'Bag-Level F1-score: {f1:.4f}')"
   ]
  },
  {
   "cell_type": "code",
   "execution_count": 12,
   "metadata": {
    "colab": {
     "base_uri": "https://localhost:8080/"
    },
    "executionInfo": {
     "elapsed": 209,
     "status": "ok",
     "timestamp": 1739391469292,
     "user": {
      "displayName": "Millad Dagdoni",
      "userId": "08179272753637900920"
     },
     "user_tz": -60
    },
    "id": "6KwXpsmMhSLe",
    "outputId": "7dfcb3a0-f335-4a33-97dd-5def9126fbc4"
   },
   "outputs": [
    {
     "name": "stdout",
     "output_type": "stream",
     "text": [
      "movie awesome love every bit experience\n",
      "POSITIVE\n",
      "0.6673760414123535\n"
     ]
    }
   ],
   "source": [
    "# Manual test.... try for yourself!\n",
    "with torch.no_grad():\n",
    "  examp_review_pos = 'This movie is awesome. I love every bit of it! What an experience!'\n",
    "  examp_review_neg = \"I hated the moive. It was very boring!\"\n",
    "  example_other = 'Write your own text to test out'\n",
    "  txt = preprocess_text(examp_review_pos)\n",
    "  print(txt)\n",
    "\n",
    "  encoding = tokenizer(txt, padding=True, truncation=True, return_tensors=\"pt\")\n",
    "  input_ids = encoding[\"input_ids\"]\n",
    "  attention_mask = encoding.get(\"attention_mask\", None)\n",
    "\n",
    "  y_pred = model(input_ids, attention_mask=attention_mask)\n",
    "  logits = y_pred.logits.squeeze(-1)\n",
    "\n",
    "  preds = (logits >= 0.5).long()\n",
    "  print(\"POSITIVE\" if preds.item() == 1 else \"NEGATIVE\")\n",
    "  print(logits.item())\n"
   ]
  }
 ],
 "metadata": {
  "colab": {
   "provenance": [],
   "toc_visible": true
  },
  "kernelspec": {
   "display_name": "Python 3 (ipykernel)",
   "language": "python",
   "name": "python3"
  },
  "language_info": {
   "codemirror_mode": {
    "name": "ipython",
    "version": 3
   },
   "file_extension": ".py",
   "mimetype": "text/x-python",
   "name": "python",
   "nbconvert_exporter": "python",
   "pygments_lexer": "ipython3",
   "version": "3.13.1"
  }
 },
 "nbformat": 4,
 "nbformat_minor": 4
}
